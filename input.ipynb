{
 "cells": [
  {
   "cell_type": "code",
   "execution_count": 3,
   "metadata": {},
   "outputs": [
    {
     "name": "stdout",
     "output_type": "stream",
     "text": [
      "nama anda adalah : kasta\n"
     ]
    }
   ],
   "source": [
    "nama=input(\"silahkan input nama anda : \")\n",
    "print(\"nama anda adalah :\",nama)"
   ]
  },
  {
   "cell_type": "code",
   "execution_count": 13,
   "metadata": {},
   "outputs": [
    {
     "name": "stdout",
     "output_type": "stream",
     "text": [
      "Hasil Perkalian: 3 * 2 = 6\n"
     ]
    }
   ],
   "source": [
    "a=input(\"a:\")\n",
    "b=input(\"b:\")\n",
    "print(\"Hasil Perkalian:\",a,'*',b,'=',int(a)*int(b))"
   ]
  }
 ],
 "metadata": {
  "kernelspec": {
   "display_name": "Python 3.10.7 64-bit",
   "language": "python",
   "name": "python3"
  },
  "language_info": {
   "codemirror_mode": {
    "name": "ipython",
    "version": 3
   },
   "file_extension": ".py",
   "mimetype": "text/x-python",
   "name": "python",
   "nbconvert_exporter": "python",
   "pygments_lexer": "ipython3",
   "version": "3.10.7"
  },
  "orig_nbformat": 4,
  "vscode": {
   "interpreter": {
    "hash": "cafc4b79299d07bdfbee0b7f5bf5619336e5540032667f5f21c98aeb1f1467bb"
   }
  }
 },
 "nbformat": 4,
 "nbformat_minor": 2
}
